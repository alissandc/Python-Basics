{
 "cells": [
  {
   "cell_type": "markdown",
   "id": "83fee823",
   "metadata": {},
   "source": [
    "Adding Excel content to Outlook Email"
   ]
  },
  {
   "cell_type": "code",
   "execution_count": 58,
   "id": "a35f1ac3",
   "metadata": {},
   "outputs": [],
   "source": [
    "import os\n",
    "import win32com.client as client\n",
    "from PIL import ImageGrab"
   ]
  },
  {
   "cell_type": "markdown",
   "id": "456da342",
   "metadata": {},
   "source": [
    "Copy and Save Excel Range as Image"
   ]
  },
  {
   "cell_type": "code",
   "execution_count": 59,
   "id": "24460443",
   "metadata": {},
   "outputs": [],
   "source": [
    "workbook_path = os.getcwd() + '\\\\heatmap.xlsx'"
   ]
  },
  {
   "cell_type": "code",
   "execution_count": 60,
   "id": "1ee10772",
   "metadata": {},
   "outputs": [],
   "source": [
    "excel = client.Dispatch('Excel.Application')"
   ]
  },
  {
   "cell_type": "code",
   "execution_count": 61,
   "id": "ed981475",
   "metadata": {},
   "outputs": [],
   "source": [
    "wb = excel.Workbooks.Open(workbook_path)"
   ]
  },
  {
   "cell_type": "code",
   "execution_count": 62,
   "id": "f1cb8675",
   "metadata": {},
   "outputs": [],
   "source": [
    "sheet = wb.Sheets.Item(1)"
   ]
  },
  {
   "cell_type": "code",
   "execution_count": 63,
   "id": "c91faaff",
   "metadata": {},
   "outputs": [],
   "source": [
    "sheet = wb.Sheets[0]"
   ]
  },
  {
   "cell_type": "code",
   "execution_count": 64,
   "id": "39835b4b",
   "metadata": {},
   "outputs": [],
   "source": [
    "sheet = wb.Sheets['Sheet1']"
   ]
  },
  {
   "cell_type": "code",
   "execution_count": 65,
   "id": "8c14d91f",
   "metadata": {},
   "outputs": [],
   "source": [
    "excel.visible = 1"
   ]
  },
  {
   "cell_type": "code",
   "execution_count": 66,
   "id": "4f217821",
   "metadata": {},
   "outputs": [],
   "source": [
    "copyrange = sheet.Range('A1:M11')"
   ]
  },
  {
   "cell_type": "code",
   "execution_count": 67,
   "id": "c425c131",
   "metadata": {},
   "outputs": [
    {
     "data": {
      "text/plain": [
       "True"
      ]
     },
     "execution_count": 67,
     "metadata": {},
     "output_type": "execute_result"
    }
   ],
   "source": [
    "copyrange.CopyPicture(Appearance=1, Format=2)"
   ]
  },
  {
   "cell_type": "markdown",
   "id": "7127576f",
   "metadata": {},
   "source": [
    "#Appearance=1, how it looks on the screen. if 2, how it looks when printed\n",
    "#Format=2, copied in a bitmap format such as bmp or jpeg"
   ]
  },
  {
   "cell_type": "code",
   "execution_count": 68,
   "id": "26ebff87",
   "metadata": {},
   "outputs": [],
   "source": [
    "ImageGrab.grabclipboard().save('paste.png')"
   ]
  },
  {
   "cell_type": "code",
   "execution_count": 69,
   "id": "0add6f4f",
   "metadata": {},
   "outputs": [],
   "source": [
    "excel.Quit()"
   ]
  },
  {
   "cell_type": "markdown",
   "id": "921e8e98",
   "metadata": {},
   "source": [
    "Create Outlook email and insert Excel content"
   ]
  },
  {
   "cell_type": "code",
   "execution_count": 70,
   "id": "87995276",
   "metadata": {},
   "outputs": [],
   "source": [
    "image_path = os.getcwd() + '\\\\paste.png'"
   ]
  },
  {
   "cell_type": "code",
   "execution_count": 71,
   "id": "836b8d6a",
   "metadata": {},
   "outputs": [],
   "source": [
    "outlook = client.Dispatch('Outlook.Application')"
   ]
  },
  {
   "cell_type": "code",
   "execution_count": 72,
   "id": "0329ad19",
   "metadata": {},
   "outputs": [],
   "source": [
    "message = outlook.CreateItem(0)"
   ]
  },
  {
   "cell_type": "code",
   "execution_count": 73,
   "id": "a34f7f8d",
   "metadata": {},
   "outputs": [],
   "source": [
    "message.To = \"someone@email.com\""
   ]
  },
  {
   "cell_type": "code",
   "execution_count": 74,
   "id": "6afa7175",
   "metadata": {},
   "outputs": [],
   "source": [
    "message.Subject = \"Please review!\""
   ]
  },
  {
   "cell_type": "code",
   "execution_count": 75,
   "id": "219da072",
   "metadata": {},
   "outputs": [],
   "source": [
    "image = message.Attachments.Add(image_path)"
   ]
  },
  {
   "cell_type": "code",
   "execution_count": 76,
   "id": "d66a5761",
   "metadata": {},
   "outputs": [],
   "source": [
    "image.PropertyAccessor.SetProperty(\"http://schemas.microsoft.com/mapi/proptag/0x3712001F\", \"paste-img\")"
   ]
  },
  {
   "cell_type": "code",
   "execution_count": 77,
   "id": "dae7bd3d",
   "metadata": {},
   "outputs": [],
   "source": [
    "html_body = \"\"\"\n",
    "    <div>\n",
    "        Please review the following report and respond with your feedback.<br><br>\n",
    "    </div>\n",
    "    <div>\n",
    "        <img src=\"cid:paste-img\" width=50%></img>\n",
    "    </div>\n",
    "\"\"\""
   ]
  },
  {
   "cell_type": "code",
   "execution_count": 78,
   "id": "39759607",
   "metadata": {},
   "outputs": [],
   "source": [
    "message.HTMLBody = html_body"
   ]
  },
  {
   "cell_type": "code",
   "execution_count": 79,
   "id": "bc6e1923",
   "metadata": {},
   "outputs": [],
   "source": [
    "message.Display()"
   ]
  },
  {
   "cell_type": "code",
   "execution_count": 80,
   "id": "0406ee15",
   "metadata": {},
   "outputs": [],
   "source": [
    "message.Save()"
   ]
  },
  {
   "cell_type": "markdown",
   "id": "e3ecc457",
   "metadata": {},
   "source": [
    "or message.Send() if you want to send!"
   ]
  }
 ],
 "metadata": {
  "kernelspec": {
   "display_name": "Python 3 (ipykernel)",
   "language": "python",
   "name": "python3"
  },
  "language_info": {
   "codemirror_mode": {
    "name": "ipython",
    "version": 3
   },
   "file_extension": ".py",
   "mimetype": "text/x-python",
   "name": "python",
   "nbconvert_exporter": "python",
   "pygments_lexer": "ipython3",
   "version": "3.11.5"
  }
 },
 "nbformat": 4,
 "nbformat_minor": 5
}
