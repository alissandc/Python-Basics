{
 "cells": [
  {
   "cell_type": "code",
   "execution_count": 18,
   "id": "cd9594b7",
   "metadata": {},
   "outputs": [],
   "source": [
    "#pip install PyPDF2"
   ]
  },
  {
   "cell_type": "code",
   "execution_count": 19,
   "id": "2f131f0b",
   "metadata": {},
   "outputs": [],
   "source": [
    "import PyPDF2"
   ]
  },
  {
   "cell_type": "code",
   "execution_count": 20,
   "id": "82c5358b",
   "metadata": {},
   "outputs": [],
   "source": [
    "pdf_file = open(r\"C:\\Users\\Documents\\2022 Holidays Manila Cebu and US.pdf\",'rb')"
   ]
  },
  {
   "cell_type": "code",
   "execution_count": 21,
   "id": "6eed7a2d",
   "metadata": {},
   "outputs": [],
   "source": [
    "pdf_reader = PyPDF2.PdfReader(pdf_file)"
   ]
  },
  {
   "cell_type": "code",
   "execution_count": 22,
   "id": "65ac043b",
   "metadata": {},
   "outputs": [
    {
     "name": "stdout",
     "output_type": "stream",
     "text": [
      "4\n"
     ]
    }
   ],
   "source": [
    "page_count = len(pdf_reader.pages)\n",
    "print(page_count)"
   ]
  },
  {
   "cell_type": "code",
   "execution_count": 23,
   "id": "c55414ad",
   "metadata": {},
   "outputs": [],
   "source": [
    "page_text = pdf_reader.pages[page_count-1]"
   ]
  },
  {
   "cell_type": "code",
   "execution_count": 24,
   "id": "0b6e44ff",
   "metadata": {},
   "outputs": [
    {
     "name": "stdout",
     "output_type": "stream",
     "text": [
      " \n",
      "2022 Holidays (US HOLIDAYS)  \n",
      " \n",
      " \n",
      "New Year's Day  3 January ( Monday ) \n",
      "Memorial Day  30 May (Monday)  \n",
      "Independence Day  4 July ( Monday ) \n",
      "Labor Day  5 September (Monday)  \n",
      "Thanksgiving  24 November  (Thursday)  \n",
      "Day After Thanksgiving  25 November (Friday)  \n",
      "Christmas Holiday  23 December  (Friday) \n",
      "Christmas Holiday  26 December ( 1day) \n",
      " \n"
     ]
    }
   ],
   "source": [
    "text = page_text.extract_text()\n",
    "print(text)"
   ]
  },
  {
   "cell_type": "code",
   "execution_count": 25,
   "id": "bc0f8713",
   "metadata": {},
   "outputs": [],
   "source": [
    "txt_file = open(r\"C:\\Users\\Documents\\pdtotxt.txt\", 'a')\n",
    "txt_file.writelines(text)\n",
    "txt_file.close()"
   ]
  },
  {
   "cell_type": "code",
   "execution_count": null,
   "id": "1b3879e0",
   "metadata": {},
   "outputs": [],
   "source": []
  }
 ],
 "metadata": {
  "kernelspec": {
   "display_name": "Python 3 (ipykernel)",
   "language": "python",
   "name": "python3"
  },
  "language_info": {
   "codemirror_mode": {
    "name": "ipython",
    "version": 3
   },
   "file_extension": ".py",
   "mimetype": "text/x-python",
   "name": "python",
   "nbconvert_exporter": "python",
   "pygments_lexer": "ipython3",
   "version": "3.11.5"
  }
 },
 "nbformat": 4,
 "nbformat_minor": 5
}
